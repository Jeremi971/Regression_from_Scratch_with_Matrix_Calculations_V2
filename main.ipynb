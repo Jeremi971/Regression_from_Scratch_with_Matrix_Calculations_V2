{
  "cells": [
    {
      "cell_type": "code",
      "execution_count": 29,
      "metadata": {
        "id": "O7wmFYH60WYX"
      },
      "outputs": [],
      "source": [
        "import pandas as pd\n",
        "import numpy as np\n",
        "import math\n",
        "from sklearn.utils import shuffle\n",
        "import matplotlib.pyplot as plt\n",
        "from io import StringIO"
      ]
    },
    {
      "cell_type": "code",
      "execution_count": 30,
      "metadata": {
        "colab": {
          "base_uri": "https://localhost:8080/",
          "height": 553
        },
        "id": "9hrzULJi6G7n",
        "outputId": "90e2b834-a8d7-44d4-ae5b-71f09dd18dd5"
      },
      "outputs": [
        {
          "name": "stdout",
          "output_type": "stream",
          "text": [
            "          X          Y\n",
            "0  0.749080   7.606466\n",
            "1  1.901429  21.018091\n",
            "2  1.463988  16.129919\n",
            "3  1.197317  12.897874\n",
            "4  0.312037   4.412079\n"
          ]
        },
        {
          "data": {
            "image/png": "[encoded data removed]",
            "text/plain": [
              "<Figure size 640x480 with 1 Axes>"
            ]
          },
          "metadata": {},
          "output_type": "display_data"
        }
      ],
      "source": [
        "# Fixer la graine aléatoire pour la reproductibilité\n",
        "np.random.seed(42)\n",
        "\n",
        "# Générer des données avec 1000 lignes\n",
        "X = 2 * np.random.rand(1000, 1)\n",
        "Y = 3 * X**2 + 5 * X + 2 + np.random.randn(1000, 1)\n",
        "\n",
        "# Créer un DataFrame\n",
        "df = pd.DataFrame({'X': X.flatten(), 'Y': Y.flatten()})\n",
        "\n",
        "# Afficher les premières lignes du DataFrame\n",
        "print(df.head())\n",
        "\n",
        "# Afficher les données\n",
        "plt.scatter(X, Y, label='Données réelles')\n",
        "plt.xlabel('X')\n",
        "plt.ylabel('Y')\n",
        "plt.legend()\n",
        "plt.show()\n"
      ]
    },
    {
      "cell_type": "code",
      "execution_count": 31,
      "metadata": {
        "id": "b0XrZ-9sX5q4"
      },
      "outputs": [],
      "source": [
        "name_feature = 'X'\n",
        "name_target = 'Y'"
      ]
    },
    {
      "cell_type": "code",
      "execution_count": 32,
      "metadata": {
        "id": "AtusoPzn-ZPv"
      },
      "outputs": [],
      "source": [
        "# Shuffle the DataFrame\n",
        "df_shuffled = shuffle(df, random_state=200)\n",
        "\n",
        "# Split the shuffled DataFrame into train and test\n",
        "train = df_shuffled.sample(frac=0.8, random_state=200) # type: ignore\n",
        "test = df_shuffled[~df_shuffled.index.isin(train.index)]\n",
        "\n",
        "# Reset the indices for both train and test DataFrames\n",
        "train = train.reset_index(drop=True)\n",
        "test = test.reset_index(drop=True)\n"
      ]
    },
    {
      "cell_type": "code",
      "execution_count": 33,
      "metadata": {
        "id": "OEvRo7IgzLAf"
      },
      "outputs": [],
      "source": [
        "def matrix_X(data, name_feature,n):\n",
        "  X = np.zeros((len(data), n + 1))\n",
        "  for i in range(n):\n",
        "      X[:, i] = data[name_feature].values ** (n - i)\n",
        "  X[:, -1] = 1\n",
        "  X[:, :-1] = (X[:, :-1] - np.mean(X[:, :-1], axis=0)) / np.std(X[:, :-1], axis=0)\n",
        "  return X"
      ]
    },
    {
      "cell_type": "code",
      "execution_count": 34,
      "metadata": {
        "id": "ONswr8j-DnXn"
      },
      "outputs": [],
      "source": [
        "def matrix_Y(data,name_target,m):\n",
        "  Y = np.array([data[name_target]])\n",
        "  Y = Y.reshape(m,1)\n",
        "  return Y"
      ]
    },
    {
      "cell_type": "code",
      "execution_count": 35,
      "metadata": {
        "id": "jKGRJMUgAAy0"
      },
      "outputs": [],
      "source": [
        "def matrix_theta(n):\n",
        "  np.random.seed(142)\n",
        "  THETA = np.random.randn(n+1,1)\n",
        "  return THETA"
      ]
    },
    {
      "cell_type": "code",
      "execution_count": 36,
      "metadata": {
        "id": "Cd5r4sblBnOf"
      },
      "outputs": [],
      "source": [
        "def matrix_F(X,THETA):\n",
        "  F = X.dot(THETA)\n",
        "  return F"
      ]
    },
    {
      "cell_type": "code",
      "execution_count": 37,
      "metadata": {
        "id": "8k_Ok5puFIgw"
      },
      "outputs": [],
      "source": [
        "def calculate_J(X,Y,F,m):\n",
        "  J = 1/2 * m * np.sum((F - Y)**2)\n",
        "  return J"
      ]
    },
    {
      "cell_type": "code",
      "execution_count": 38,
      "metadata": {
        "id": "icdSJwGOkWun"
      },
      "outputs": [],
      "source": [
        "def metrics(X,Y,F,m):\n",
        "  mse = calculate_J(X,Y,F,m)\n",
        "  rmse = math.sqrt(mse)\n",
        "  R2 = 1 - np.sum((F - Y)**2) / np.sum((Y - Y.mean())**2)\n",
        "  dict_metrics = {'MSE':mse,'RMSE':rmse,'R2':R2}\n",
        "  df_metrics = pd.Series(dict_metrics)\n",
        "  return df_metrics"
      ]
    },
    {
      "cell_type": "code",
      "execution_count": 39,
      "metadata": {
        "id": "ARNTnjU6upcM"
      },
      "outputs": [],
      "source": [
        "def store_the_good_coefficients(THETA, rmse):\n",
        "    # Charger le DataFrame depuis le fichier CSV s'il existe\n",
        "    try:\n",
        "        coefficients_df = pd.read_csv('data/coefficient.csv')\n",
        "    except FileNotFoundError:\n",
        "        coefficients_df = pd.DataFrame(columns=['θ', 'rmse à l\\'entrainement'])\n",
        "\n",
        "    # Si le DataFrame est vide ou la nouvelle RMSE est inférieure, mettre à jour et sauvegarder\n",
        "    if coefficients_df.empty or rmse < coefficients_df['rmse à l\\'entrainement'].iloc[0]:\n",
        "        coefficients_df = pd.DataFrame({'θ': [THETA], 'rmse à l\\'entrainement': [rmse]})\n",
        "        coefficients_df.to_csv(path_or_buf='data/coefficient.csv', index=False)\n",
        "\n",
        "    return coefficients_df\n"
      ]
    },
    {
      "cell_type": "code",
      "execution_count": 40,
      "metadata": {
        "id": "IGkdgGHZQAQX"
      },
      "outputs": [],
      "source": [
        "def load_theta_selected(THETA_FOR_TEST,n):\n",
        "    if type(THETA_FOR_TEST) == str:\n",
        "        THETA_FOR_TEST = THETA_FOR_TEST.replace(\"[\",\"\").replace(\"]\",\"\")\n",
        "        THETA_FOR_TEST = StringIO(THETA_FOR_TEST)\n",
        "        THETA_FOR_TEST = np.loadtxt(THETA_FOR_TEST)\n",
        "        THETA_FOR_TEST = THETA_FOR_TEST.reshape((n+1),1)\n",
        "        return THETA_FOR_TEST\n",
        "    else:\n",
        "        return THETA_FOR_TEST"
      ]
    },
    {
      "cell_type": "code",
      "execution_count": 41,
      "metadata": {
        "id": "LIkUBuIpGsvP"
      },
      "outputs": [],
      "source": [
        "def calculate_gradient(X,Y,F,m):\n",
        "  m = X.shape[0]\n",
        "  dJ_dTHETA = 1/m * X.T.dot(F - Y)\n",
        "  return dJ_dTHETA"
      ]
    },
    {
      "cell_type": "code",
      "execution_count": 42,
      "metadata": {
        "id": "sxr6B3W6qR7p"
      },
      "outputs": [],
      "source": [
        "def gradient_descent(data, alpha, epochs,n):\n",
        "    m = data.shape[0]\n",
        "    X = matrix_X(data=train, name_feature=name_feature,n=n)\n",
        "    Y = matrix_Y(data=train, name_target=name_target, m=m)\n",
        "    THETA = matrix_theta(n=n)\n",
        "\n",
        "    for epoch in range(epochs):\n",
        "        F = matrix_F(X=X, THETA=THETA)\n",
        "        J = calculate_J(X=X, Y=Y, F=F, m=m)\n",
        "        gradient = calculate_gradient(X=X, Y=Y, F=F, m=m)\n",
        "        THETA -= alpha * gradient\n",
        "\n",
        "    return THETA"
      ]
    },
    {
      "cell_type": "code",
      "execution_count": 43,
      "metadata": {
        "id": "4wvZiAk_6f4Z"
      },
      "outputs": [],
      "source": [
        "def draw_linear_regression_models(data, F, name_feature, name_target):\n",
        "    # Ajoutez la colonne 'Prediction' à votre DataFrame avec les prédictions du modèle\n",
        "    data['Prediction'] = F\n",
        "\n",
        "    # Trouvez les valeurs minimales et maximales pour bien calibrer l'axe y\n",
        "    y_min = min(data[name_target].min(), data['Prediction'].min())\n",
        "    y_max = max(data[name_target].max(), data['Prediction'].max())\n",
        "\n",
        "    # Affichez le nuage de points des données réelles\n",
        "    plt.scatter(data[name_feature], data[name_target], label=\"Données réelles\")\n",
        "\n",
        "    # Tracez la ligne du modèle avec les prédictions en rouge\n",
        "    plt.scatter(data[name_feature], data['Prediction'], color='red', label=\"Modèle\")\n",
        "\n",
        "    # Étiquetez les axes x et y\n",
        "    plt.xlabel(name_feature)\n",
        "    plt.ylabel(name_target)\n",
        "\n",
        "    # Fixez les limites de l'axe y en fonction des valeurs minimales et maximales\n",
        "    plt.ylim(y_min, y_max)\n",
        "\n",
        "    # Ajoutez une légende pour identifier les données réelles et le modèle\n",
        "    plt.legend()\n",
        "\n",
        "    # Affichez le graphique\n",
        "    plt.show()"
      ]
    },
    {
      "cell_type": "markdown",
      "metadata": {
        "id": "Ld4SWJWMLzO4"
      },
      "source": [
        "Partie Entrainement"
      ]
    },
    {
      "cell_type": "code",
      "execution_count": 44,
      "metadata": {
        "id": "qPqlm_HV_ge7"
      },
      "outputs": [],
      "source": [
        "m_train = train.shape[0] #Nombre de lignes, pour les variables\n",
        "n=2\n",
        "THETA_train = gradient_descent(data=train, alpha=0.3, epochs=10000,n=n)\n",
        "X_train = matrix_X(data=train, name_feature=name_feature, n=n)\n",
        "Y_train = matrix_Y(data=train, name_target=name_target, m=m_train)\n",
        "F_train = matrix_F(X=X_train, THETA=THETA_train)"
      ]
    },
    {
      "cell_type": "code",
      "execution_count": 45,
      "metadata": {
        "colab": {
          "base_uri": "https://localhost:8080/"
        },
        "id": "eISUxUh9uC8M",
        "outputId": "4c224024-4e66-4fad-f484-6f5fd27f6559"
      },
      "outputs": [
        {
          "data": {
            "text/plain": [
              "array([[ 3.43064736],\n",
              "       [ 2.98997237],\n",
              "       [10.7449857 ]])"
            ]
          },
          "execution_count": 45,
          "metadata": {},
          "output_type": "execute_result"
        }
      ],
      "source": [
        "THETA_train"
      ]
    },
    {
      "cell_type": "code",
      "execution_count": 46,
      "metadata": {
        "id": "86BNmsQ_jD-R"
      },
      "outputs": [],
      "source": [
        "info_metrics_train = metrics(X=X_train,Y=Y_train,F=F_train,m=m_train)"
      ]
    },
    {
      "cell_type": "code",
      "execution_count": 47,
      "metadata": {
        "colab": {
          "base_uri": "https://localhost:8080/"
        },
        "id": "WZWeTtpAnVNT",
        "outputId": "5ab96574-7ff5-42c2-9d70-858c523af114"
      },
      "outputs": [
        {
          "data": {
            "text/plain": [
              "MSE     305007.870112\n",
              "RMSE       552.275176\n",
              "R2           0.977042\n",
              "dtype: float64"
            ]
          },
          "execution_count": 47,
          "metadata": {},
          "output_type": "execute_result"
        }
      ],
      "source": [
        "info_metrics_train"
      ]
    },
    {
      "cell_type": "code",
      "execution_count": 48,
      "metadata": {
        "id": "iAnwONYrxBvP"
      },
      "outputs": [],
      "source": [
        "coefficients = store_the_good_coefficients(THETA=THETA_train,rmse=info_metrics_train['RMSE'])"
      ]
    },
    {
      "cell_type": "code",
      "execution_count": 49,
      "metadata": {
        "colab": {
          "base_uri": "https://localhost:8080/",
          "height": 80
        },
        "id": "QcB_COSlLzO6",
        "outputId": "e617b6ae-71f7-43c6-a4b8-4ebcfa0907bc"
      },
      "outputs": [
        {
          "data": {
            "text/html": [
              "<div>\n",
              "<style scoped>\n",
              "    .dataframe tbody tr th:only-of-type {\n",
              "        vertical-align: middle;\n",
              "    }\n",
              "\n",
              "    .dataframe tbody tr th {\n",
              "        vertical-align: top;\n",
              "    }\n",
              "\n",
              "    .dataframe thead th {\n",
              "        text-align: right;\n",
              "    }\n",
              "</style>\n",
              "<table border=\"1\" class=\"dataframe\">\n",
              "  <thead>\n",
              "    <tr style=\"text-align: right;\">\n",
              "      <th></th>\n",
              "      <th>θ</th>\n",
              "      <th>rmse à l'entrainement</th>\n",
              "    </tr>\n",
              "  </thead>\n",
              "  <tbody>\n",
              "    <tr>\n",
              "      <th>0</th>\n",
              "      <td>[[ 3.43064736]\\n [ 2.98997237]\\n [10.7449857 ]]</td>\n",
              "      <td>552.275176</td>\n",
              "    </tr>\n",
              "  </tbody>\n",
              "</table>\n",
              "</div>"
            ],
            "text/plain": [
              "                                                 θ  rmse à l'entrainement\n",
              "0  [[ 3.43064736]\\n [ 2.98997237]\\n [10.7449857 ]]             552.275176"
            ]
          },
          "execution_count": 49,
          "metadata": {},
          "output_type": "execute_result"
        }
      ],
      "source": [
        "coefficients"
      ]
    },
    {
      "cell_type": "code",
      "execution_count": 50,
      "metadata": {
        "colab": {
          "base_uri": "https://localhost:8080/",
          "height": 451
        },
        "id": "jk_a9AmecM3u",
        "outputId": "0df45ee1-f424-46fd-d45f-e1bd42de3109"
      },
      "outputs": [
        {
          "data": {
            "image/png": "[encoded data removed]",
            "text/plain": [
              "<Figure size 640x480 with 1 Axes>"
            ]
          },
          "metadata": {},
          "output_type": "display_data"
        }
      ],
      "source": [
        "draw_linear_regression_models(train,F_train,name_feature,name_target)"
      ]
    },
    {
      "cell_type": "code",
      "execution_count": 51,
      "metadata": {
        "colab": {
          "base_uri": "https://localhost:8080/",
          "height": 423
        },
        "id": "uBBUGcRihyNR",
        "outputId": "9d17d75a-c591-4731-cee9-595bff1285b6"
      },
      "outputs": [
        {
          "data": {
            "text/html": [
              "<div>\n",
              "<style scoped>\n",
              "    .dataframe tbody tr th:only-of-type {\n",
              "        vertical-align: middle;\n",
              "    }\n",
              "\n",
              "    .dataframe tbody tr th {\n",
              "        vertical-align: top;\n",
              "    }\n",
              "\n",
              "    .dataframe thead th {\n",
              "        text-align: right;\n",
              "    }\n",
              "</style>\n",
              "<table border=\"1\" class=\"dataframe\">\n",
              "  <thead>\n",
              "    <tr style=\"text-align: right;\">\n",
              "      <th></th>\n",
              "      <th>Y</th>\n",
              "      <th>Prediction</th>\n",
              "    </tr>\n",
              "  </thead>\n",
              "  <tbody>\n",
              "    <tr>\n",
              "      <th>0</th>\n",
              "      <td>2.566032</td>\n",
              "      <td>3.391035</td>\n",
              "    </tr>\n",
              "    <tr>\n",
              "      <th>1</th>\n",
              "      <td>4.571691</td>\n",
              "      <td>4.337510</td>\n",
              "    </tr>\n",
              "    <tr>\n",
              "      <th>2</th>\n",
              "      <td>19.041801</td>\n",
              "      <td>18.127618</td>\n",
              "    </tr>\n",
              "    <tr>\n",
              "      <th>3</th>\n",
              "      <td>11.534779</td>\n",
              "      <td>11.850440</td>\n",
              "    </tr>\n",
              "    <tr>\n",
              "      <th>4</th>\n",
              "      <td>4.715003</td>\n",
              "      <td>3.822416</td>\n",
              "    </tr>\n",
              "    <tr>\n",
              "      <th>...</th>\n",
              "      <td>...</td>\n",
              "      <td>...</td>\n",
              "    </tr>\n",
              "    <tr>\n",
              "      <th>795</th>\n",
              "      <td>6.965455</td>\n",
              "      <td>5.277740</td>\n",
              "    </tr>\n",
              "    <tr>\n",
              "      <th>796</th>\n",
              "      <td>5.447022</td>\n",
              "      <td>5.965423</td>\n",
              "    </tr>\n",
              "    <tr>\n",
              "      <th>797</th>\n",
              "      <td>8.393845</td>\n",
              "      <td>8.037301</td>\n",
              "    </tr>\n",
              "    <tr>\n",
              "      <th>798</th>\n",
              "      <td>3.953697</td>\n",
              "      <td>3.293322</td>\n",
              "    </tr>\n",
              "    <tr>\n",
              "      <th>799</th>\n",
              "      <td>20.706567</td>\n",
              "      <td>20.973894</td>\n",
              "    </tr>\n",
              "  </tbody>\n",
              "</table>\n",
              "<p>800 rows × 2 columns</p>\n",
              "</div>"
            ],
            "text/plain": [
              "             Y  Prediction\n",
              "0     2.566032    3.391035\n",
              "1     4.571691    4.337510\n",
              "2    19.041801   18.127618\n",
              "3    11.534779   11.850440\n",
              "4     4.715003    3.822416\n",
              "..         ...         ...\n",
              "795   6.965455    5.277740\n",
              "796   5.447022    5.965423\n",
              "797   8.393845    8.037301\n",
              "798   3.953697    3.293322\n",
              "799  20.706567   20.973894\n",
              "\n",
              "[800 rows x 2 columns]"
            ]
          },
          "execution_count": 51,
          "metadata": {},
          "output_type": "execute_result"
        }
      ],
      "source": [
        "train[[name_target,'Prediction']]"
      ]
    },
    {
      "cell_type": "markdown",
      "metadata": {
        "id": "WVy2ZwdALzO7"
      },
      "source": [
        "Partie Test"
      ]
    },
    {
      "cell_type": "markdown",
      "metadata": {
        "id": "68-7J_PnXqZl"
      },
      "source": [
        "Ici, on utilise les données de test, donc on n'entraîne plus le modèle ; on utilise simplement les coefficients calculés (notre nouvelle matrice THETA)."
      ]
    },
    {
      "cell_type": "code",
      "execution_count": 52,
      "metadata": {
        "id": "Nr7QVr9uTN3E"
      },
      "outputs": [],
      "source": [
        "THETA_test = load_theta_selected(THETA_FOR_TEST=coefficients['θ'].iloc[0],n=n) #On récupère la matrice THETA qui a été stocké dans un fichier csv."
      ]
    },
    {
      "cell_type": "code",
      "execution_count": 53,
      "metadata": {
        "colab": {
          "base_uri": "https://localhost:8080/",
          "height": 449
        },
        "id": "01qaIcJ3fXLG",
        "outputId": "b6100e72-0728-4a65-c3ea-33d67f5712a6"
      },
      "outputs": [
        {
          "data": {
            "image/png": "[encoded data removed]",
            "text/plain": [
              "<Figure size 640x480 with 1 Axes>"
            ]
          },
          "metadata": {},
          "output_type": "display_data"
        }
      ],
      "source": [
        "m_test = test.shape[0] #Nombre de lignes, pour les variables\n",
        "X_test = matrix_X(data=test, name_feature=name_feature, n=n)\n",
        "Y_test = matrix_Y(data=test, name_target=name_target, m=m_test)\n",
        "F_test = matrix_F(X=X_test, THETA=THETA_test)\n",
        "draw_linear_regression_models(test,F_test,name_feature,name_target)"
      ]
    },
    {
      "cell_type": "code",
      "execution_count": 54,
      "metadata": {
        "id": "xkUqdEn-ZR7K"
      },
      "outputs": [],
      "source": [
        "info_metrics_test = metrics(X=X_test,Y=Y_test,F=F_test,m=m_test)"
      ]
    },
    {
      "cell_type": "code",
      "execution_count": 55,
      "metadata": {
        "colab": {
          "base_uri": "https://localhost:8080/"
        },
        "id": "sB9_jCG9ZT-K",
        "outputId": "24a8f7f5-247f-4760-c0e7-e1588b8a4adc"
      },
      "outputs": [
        {
          "data": {
            "text/plain": [
              "MSE     34445.842761\n",
              "RMSE      185.595913\n",
              "R2          0.960498\n",
              "dtype: float64"
            ]
          },
          "execution_count": 55,
          "metadata": {},
          "output_type": "execute_result"
        }
      ],
      "source": [
        "info_metrics_test "
      ]
    },
    {
      "cell_type": "code",
      "execution_count": 56,
      "metadata": {
        "colab": {
          "base_uri": "https://localhost:8080/",
          "height": 423
        },
        "id": "mSax1oMQWMZY",
        "outputId": "57545ae8-f9c7-4c58-fd1c-7ba38da17308"
      },
      "outputs": [
        {
          "data": {
            "text/html": [
              "<div>\n",
              "<style scoped>\n",
              "    .dataframe tbody tr th:only-of-type {\n",
              "        vertical-align: middle;\n",
              "    }\n",
              "\n",
              "    .dataframe tbody tr th {\n",
              "        vertical-align: top;\n",
              "    }\n",
              "\n",
              "    .dataframe thead th {\n",
              "        text-align: right;\n",
              "    }\n",
              "</style>\n",
              "<table border=\"1\" class=\"dataframe\">\n",
              "  <thead>\n",
              "    <tr style=\"text-align: right;\">\n",
              "      <th></th>\n",
              "      <th>X</th>\n",
              "      <th>Y</th>\n",
              "      <th>Prediction</th>\n",
              "    </tr>\n",
              "  </thead>\n",
              "  <tbody>\n",
              "    <tr>\n",
              "      <th>0</th>\n",
              "      <td>0.820794</td>\n",
              "      <td>8.690585</td>\n",
              "      <td>7.369510</td>\n",
              "    </tr>\n",
              "    <tr>\n",
              "      <th>1</th>\n",
              "      <td>0.753889</td>\n",
              "      <td>9.328582</td>\n",
              "      <td>6.725593</td>\n",
              "    </tr>\n",
              "    <tr>\n",
              "      <th>2</th>\n",
              "      <td>1.782286</td>\n",
              "      <td>20.815120</td>\n",
              "      <td>19.453032</td>\n",
              "    </tr>\n",
              "    <tr>\n",
              "      <th>3</th>\n",
              "      <td>1.072193</td>\n",
              "      <td>10.657286</td>\n",
              "      <td>10.018077</td>\n",
              "    </tr>\n",
              "    <tr>\n",
              "      <th>4</th>\n",
              "      <td>1.136617</td>\n",
              "      <td>12.483416</td>\n",
              "      <td>10.755037</td>\n",
              "    </tr>\n",
              "    <tr>\n",
              "      <th>...</th>\n",
              "      <td>...</td>\n",
              "      <td>...</td>\n",
              "      <td>...</td>\n",
              "    </tr>\n",
              "    <tr>\n",
              "      <th>195</th>\n",
              "      <td>1.319968</td>\n",
              "      <td>15.266905</td>\n",
              "      <td>12.982424</td>\n",
              "    </tr>\n",
              "    <tr>\n",
              "      <th>196</th>\n",
              "      <td>1.231700</td>\n",
              "      <td>11.563412</td>\n",
              "      <td>11.886108</td>\n",
              "    </tr>\n",
              "    <tr>\n",
              "      <th>197</th>\n",
              "      <td>1.221240</td>\n",
              "      <td>13.228763</td>\n",
              "      <td>11.759145</td>\n",
              "    </tr>\n",
              "    <tr>\n",
              "      <th>198</th>\n",
              "      <td>1.829692</td>\n",
              "      <td>21.490528</td>\n",
              "      <td>20.185673</td>\n",
              "    </tr>\n",
              "    <tr>\n",
              "      <th>199</th>\n",
              "      <td>0.363195</td>\n",
              "      <td>4.948554</td>\n",
              "      <td>3.477049</td>\n",
              "    </tr>\n",
              "  </tbody>\n",
              "</table>\n",
              "<p>200 rows × 3 columns</p>\n",
              "</div>"
            ],
            "text/plain": [
              "            X          Y  Prediction\n",
              "0    0.820794   8.690585    7.369510\n",
              "1    0.753889   9.328582    6.725593\n",
              "2    1.782286  20.815120   19.453032\n",
              "3    1.072193  10.657286   10.018077\n",
              "4    1.136617  12.483416   10.755037\n",
              "..        ...        ...         ...\n",
              "195  1.319968  15.266905   12.982424\n",
              "196  1.231700  11.563412   11.886108\n",
              "197  1.221240  13.228763   11.759145\n",
              "198  1.829692  21.490528   20.185673\n",
              "199  0.363195   4.948554    3.477049\n",
              "\n",
              "[200 rows x 3 columns]"
            ]
          },
          "execution_count": 56,
          "metadata": {},
          "output_type": "execute_result"
        }
      ],
      "source": [
        "test #Les prédictions sur les données de test."
      ]
    }
  ],
  "metadata": {
    "colab": {
      "provenance": []
    },
    "kernelspec": {
      "display_name": "Python 3",
      "name": "python3"
    },
    "language_info": {
      "codemirror_mode": {
        "name": "ipython",
        "version": 3
      },
      "file_extension": ".py",
      "mimetype": "text/x-python",
      "name": "python",
      "nbconvert_exporter": "python",
      "pygments_lexer": "ipython3",
      "version": "3.12.1"
    }
  },
  "nbformat": 4,
  "nbformat_minor": 0
}
